{
 "metadata": {
  "language_info": {
   "codemirror_mode": {
    "name": "ipython",
    "version": 3
   },
   "file_extension": ".py",
   "mimetype": "text/x-python",
   "name": "python",
   "nbconvert_exporter": "python",
   "pygments_lexer": "ipython3",
   "version": "3.8.5-final"
  },
  "orig_nbformat": 2,
  "kernelspec": {
   "name": "python3",
   "display_name": "Python 3",
   "language": "python"
  }
 },
 "nbformat": 4,
 "nbformat_minor": 2,
 "cells": [
  {
   "cell_type": "code",
   "execution_count": 1,
   "metadata": {},
   "outputs": [],
   "source": [
    "game_list = [0,1,2]"
   ]
  },
  {
   "cell_type": "code",
   "execution_count": 2,
   "metadata": {},
   "outputs": [],
   "source": [
    "def display_game(game_list):\n",
    "    print (\"Here is the current list: \")\n",
    "    print(game_list)"
   ]
  },
  {
   "cell_type": "code",
   "execution_count": 4,
   "metadata": {},
   "outputs": [
    {
     "output_type": "stream",
     "name": "stdout",
     "text": [
      "Here is the current list: \n[0, 1, 2]\n"
     ]
    }
   ],
   "source": [
    "display_game(game_list)"
   ]
  },
  {
   "cell_type": "code",
   "execution_count": 6,
   "metadata": {},
   "outputs": [],
   "source": [
    "def position_choice():\n",
    "\n",
    "    choice = 'wrong'\n",
    "\n",
    "    while choice not in ['0','1','2']:\n",
    "\n",
    "        choice = input(\"Pick a position (0,1,2): \")\n",
    "\n",
    "        if choice not in ['0','1','2']:\n",
    "            print(\"Sorry, invalid choice!\")\n",
    "\n",
    "    return int(choice)"
   ]
  },
  {
   "cell_type": "code",
   "execution_count": 7,
   "metadata": {},
   "outputs": [
    {
     "output_type": "stream",
     "name": "stdout",
     "text": [
      "Sorry, invalid choice!\n"
     ]
    },
    {
     "output_type": "execute_result",
     "data": {
      "text/plain": [
       "1"
      ]
     },
     "metadata": {},
     "execution_count": 7
    }
   ],
   "source": [
    "position_choice()"
   ]
  },
  {
   "cell_type": "code",
   "execution_count": 10,
   "metadata": {},
   "outputs": [],
   "source": [
    "def replacement_choice(game_list,position):\n",
    "    user_placement = input(\"Type a string to place at position:\")\n",
    "\n",
    "    game_list[position] = user_placement\n",
    "\n",
    "    return game_list"
   ]
  },
  {
   "cell_type": "code",
   "execution_count": 12,
   "metadata": {},
   "outputs": [
    {
     "output_type": "execute_result",
     "data": {
      "text/plain": [
       "[0, 'test', 2]"
      ]
     },
     "metadata": {},
     "execution_count": 12
    }
   ],
   "source": [
    "replacement_choice(game_list,1)"
   ]
  },
  {
   "cell_type": "code",
   "execution_count": 13,
   "metadata": {},
   "outputs": [],
   "source": [
    "def gameon_choice():\n",
    "\n",
    "    choice = 'wrong'\n",
    "\n",
    "    while choice not in ['Y','N']:\n",
    "\n",
    "        choice = input(\"Keep playing? (Y or N): \")\n",
    "\n",
    "        if choice not in ['N','Y']:\n",
    "\n",
    "            print(\"Sorry, I dont understand, please choose Y or N\")\n",
    "\n",
    "    if choice == 'Y':\n",
    "        return True \n",
    "    else:\n",
    "        return False"
   ]
  },
  {
   "cell_type": "code",
   "execution_count": 14,
   "metadata": {},
   "outputs": [
    {
     "output_type": "execute_result",
     "data": {
      "text/plain": [
       "False"
      ]
     },
     "metadata": {},
     "execution_count": 14
    }
   ],
   "source": [
    "gameon_choice()"
   ]
  },
  {
   "cell_type": "code",
   "execution_count": 15,
   "metadata": {},
   "outputs": [
    {
     "output_type": "stream",
     "name": "stdout",
     "text": [
      "Here is the current list: \n",
      "[0, 1, 2]\n",
      "Here is the current list: \n",
      "[0, '6', 2]\n",
      "Sorry, I dont understand, please choose Y or N\n",
      "Here is the current list: \n",
      "[0, '6', 2]\n",
      "Here is the current list: \n",
      "[0, '', 2]\n",
      "Sorry, I dont understand, please choose Y or N\n"
     ]
    }
   ],
   "source": [
    "game_on = True \n",
    "game_list = [0,1,2]\n",
    "\n",
    "while game_on:\n",
    "\n",
    "    display_game(game_list)\n",
    "\n",
    "    position = position_choice()\n",
    "\n",
    "    game_list = replacement_choice(game_list,position)\n",
    "\n",
    "    display_game(game_list)\n",
    "\n",
    "    game_on = gameon_choice()"
   ]
  },
  {
   "cell_type": "code",
   "execution_count": null,
   "metadata": {},
   "outputs": [],
   "source": []
  }
 ]
}